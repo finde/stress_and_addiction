{
 "cells": [
  {
   "cell_type": "markdown",
   "metadata": {},
   "source": [
    "# HRV Analysis\n",
    "\n",
    "Dependecies: \n",
    "- [PhysioNet Cardiovascular Signal Toolbox](https://github.com/cliffordlab/PhysioNet-Cardiovascular-Signal-Toolbox)\n"
   ]
  },
  {
   "cell_type": "code",
   "execution_count": 1,
   "metadata": {},
   "outputs": [],
   "source": [
    "addpath(genpath('../../PhysioNet-Cardiovascular-Signal-Toolbox'))\n",
    "addpath('../../stress_and_addiction')\n",
    "\n",
    "%plot native"
   ]
  },
  {
   "cell_type": "code",
   "execution_count": 2,
   "metadata": {},
   "outputs": [
    {
     "name": "stdout",
     "output_type": "stream",
     "text": [
      "Adding the PhysioNet Cardiovascular Signal Toolbox to Matlab path\n",
      "PhysioNet Cardiovascular Signal Toolbox successfully added to Matlab path\n"
     ]
    }
   ],
   "source": [
    "startup"
   ]
  },
  {
   "cell_type": "code",
   "execution_count": 134,
   "metadata": {},
   "outputs": [
    {
     "name": "stdout",
     "output_type": "stream",
     "text": [
      "loading ...\n",
      "plotting ...\n"
     ]
    },
    {
     "data": {
      "image/png": "[encoded data removed]",
      "text/plain": [
       "<IPython.core.display.Image object>"
      ]
     },
     "metadata": {},
     "output_type": "display_data"
    }
   ],
   "source": [
    "rootDataPath = '../../stress_and_addiction/data_lemon';\n",
    "participantID = 'sub-010003';\n",
    "subjectID = strcat(participantID, ':/ses-01:/func:');\n",
    "filePath = strcat(participantID, '_ses-01_task-rest_acq-AP_run-01_recording-ecg_physio.tsv');\n",
    "Fs = 1000; % frequency per second\n",
    "range = 1:1:(5*60*Fs);\n",
    "\n",
    "fullpath = fullfile(rootDataPath, subjectID, filePath);\n",
    "cacheFilePath=strrep(fullpath,'.tsv','.mat');\n",
    "\n",
    "if isfile(fullpath)\n",
    "    disp(\"loading ...\")\n",
    "    \n",
    "    % read tsv (check cache if exists)\n",
    "    if isfile(cacheFilePath)\n",
    "        loadedData = load(cacheFilePath);\n",
    "        ecgData = loadedData.ecgData;\n",
    "    else\n",
    "        [output, header, raw] = tsvread(fullpath, range);\n",
    "\n",
    "        % clean up NaN rows\n",
    "        disp(\"cleaning ...\")\n",
    "        output(sum(isnan(output), 2) == size(output, 2), :) = [];\n",
    "        \n",
    "        ecgData = output(:,1);\n",
    "        save(cacheFilePath, 'ecgData');\n",
    "    end\n",
    "\n",
    "    disp(\"plotting ...\")\n",
    "    tm = 0:1/Fs:(length(ecgData)-1)/Fs;\n",
    "    plot(tm, ecgData)\n",
    "    xlabel('[s]');\n",
    "    ylabel('[mV]');\n",
    "    \n",
    "    ylim([-1000,1000]);\n",
    "else\n",
    "    disp(\"file not found\")\n",
    "end"
   ]
  },
  {
   "cell_type": "code",
   "execution_count": null,
   "metadata": {
    "scrolled": true
   },
   "outputs": [],
   "source": [
    "HRVparams = InitializeHRVparams('Demo');\n",
    "\n",
    "% set the exact sampling frequency usign the one from the loaded signal\n",
    "HRVparams.Fs = 1000;\n",
    "\n",
    "ecg = ecgData(1:30000);\n",
    "tm = 0:1/Fs:(length(ecg)-1)/Fs;\n",
    "\n",
    "% call the function that perform peak detection\n",
    "r_peaks = jqrs(ecg, HRVparams);\n",
    "\n",
    "% plot the detected r_peaks on the top of the ecg signal\n",
    "figure(1)\n",
    "hold on;\n",
    "plot(tm, ecg)\n",
    "plot(r_peaks./Fs, ecg(r_peaks),'o');\n",
    "    \n",
    "% legend('ecg signal', 'detected R peaks')"
   ]
  }
 ],
 "metadata": {
  "kernelspec": {
   "display_name": "Matlab",
   "language": "matlab",
   "name": "matlab"
  },
  "language_info": {
   "codemirror_mode": "octave",
   "file_extension": ".m",
   "help_links": [
    {
     "text": "MetaKernel Magics",
     "url": "https://metakernel.readthedocs.io/en/latest/source/README.html"
    }
   ],
   "mimetype": "text/x-octave",
   "name": "matlab",
   "version": "0.16.7"
  }
 },
 "nbformat": 4,
 "nbformat_minor": 2
}
